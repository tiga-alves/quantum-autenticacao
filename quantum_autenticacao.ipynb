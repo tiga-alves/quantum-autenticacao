{
  "nbformat": 4,
  "nbformat_minor": 0,
  "metadata": {
    "colab": {
      "provenance": []
    },
    "kernelspec": {
      "name": "python3",
      "display_name": "Python 3"
    },
    "language_info": {
      "name": "python"
    }
  },
  "cells": [
    {
      "cell_type": "markdown",
      "source": [
        "# Sistema de Validação de Identidade com AWS\n",
        "\n",
        "Este notebook demonstra o funcionamento do sistema de validação de identidade que utiliza:\n",
        "- **AWS Rekognition** para comparação facial\n",
        "- **AWS Textract** para extração de texto de documentos\n",
        "- **S3** para armazenamento temporário de arquivos\n",
        "\n",
        "O sistema realiza três etapas principais:\n",
        "1. Comparação facial entre selfie e documento\n",
        "2. Extração de dados do documento\n",
        "3. Validação do nome no comprovante de residência\n"
      ],
      "metadata": {
        "id": "P_KatLnc0dMU"
      }
    },
    {
      "cell_type": "markdown",
      "source": [
        "## 1. Importação das bibliotecas necessárias"
      ],
      "metadata": {
        "id": "rUtK597B1G1c"
      }
    },
    {
      "cell_type": "code",
      "execution_count": null,
      "metadata": {
        "id": "9K2QuGXe0P5G"
      },
      "outputs": [],
      "source": [
        "import streamlit as st\n",
        "import boto3\n",
        "import uuid\n",
        "import time\n",
        "from IPython.display import display, HTML, Markdown"
      ]
    },
    {
      "cell_type": "code",
      "source": [
        "# Configuração do ambiente AWS\n",
        "# Nota: Em um notebook, você pode usar as credenciais diretamente ou via variáveis de ambiente\n",
        "# !pip install boto3 streamlit pillow"
      ],
      "metadata": {
        "id": "PN05p-Nj0VU1"
      },
      "execution_count": null,
      "outputs": []
    },
    {
      "cell_type": "markdown",
      "source": [
        "## 2. Configuração dos clientes AWS"
      ],
      "metadata": {
        "id": "m6qqAfV31KM8"
      }
    },
    {
      "cell_type": "code",
      "source": [
        "def configurar_clientes_aws():\n",
        "    \"\"\"Configura e retorna os clientes AWS necessários para o aplicativo\"\"\"\n",
        "    rekognition = boto3.client(\"rekognition\", region_name=\"us-east-1\")\n",
        "    textract = boto3.client(\"textract\", region_name=\"us-east-1\")\n",
        "    s3 = boto3.client('s3')\n",
        "    return rekognition, textract, s3"
      ],
      "metadata": {
        "id": "w6ooI_Nb0X1c"
      },
      "execution_count": null,
      "outputs": []
    },
    {
      "cell_type": "markdown",
      "source": [
        "## 3. Função para comparação facial"
      ],
      "metadata": {
        "id": "aDRPzdJr1aKj"
      }
    },
    {
      "cell_type": "code",
      "source": [
        "def comparar_rostos(rekognition, selfie_bytes, doc_bytes):\n",
        "    \"\"\"\n",
        "    Compara os rostos entre a selfie e o documento\n",
        "\n",
        "    Args:\n",
        "        rekognition: Cliente AWS Rekognition\n",
        "        selfie_bytes: Bytes da imagem da selfie\n",
        "        doc_bytes: Bytes da imagem do documento\n",
        "\n",
        "    Returns:\n",
        "        dict: Resultado da comparação com similaridade\n",
        "    \"\"\"\n",
        "    result = rekognition.compare_faces(\n",
        "        SourceImage={'Bytes': selfie_bytes},\n",
        "        TargetImage={'Bytes': doc_bytes},\n",
        "        SimilarityThreshold=80\n",
        "    )\n",
        "    return result"
      ],
      "metadata": {
        "id": "YQ6tcsvz1aiU"
      },
      "execution_count": null,
      "outputs": []
    },
    {
      "cell_type": "markdown",
      "source": [
        "## 4. Função para extrair texto do documento"
      ],
      "metadata": {
        "id": "-DDSMU8Y1cZb"
      }
    },
    {
      "cell_type": "code",
      "source": [
        "def extrair_texto_documento(textract, doc_bytes):\n",
        "    \"\"\"\n",
        "    Extrai texto do documento usando AWS Textract\n",
        "\n",
        "    Args:\n",
        "        textract: Cliente AWS Textract\n",
        "        doc_bytes: Bytes da imagem do documento\n",
        "\n",
        "    Returns:\n",
        "        list: Linhas de texto extraídas do documento\n",
        "    \"\"\"\n",
        "    response = textract.detect_document_text(Document={'Bytes': doc_bytes})\n",
        "    lines = [block['Text'] for block in response['Blocks'] if block['BlockType'] == 'LINE']\n",
        "    return lines"
      ],
      "metadata": {
        "id": "SrDoSCDg1csU"
      },
      "execution_count": null,
      "outputs": []
    },
    {
      "cell_type": "markdown",
      "source": [
        "## 5. Função para processar comprovante de residência"
      ],
      "metadata": {
        "id": "AR2X6Kpp1g3j"
      }
    },
    {
      "cell_type": "code",
      "source": [
        "def processar_comprovante(textract, s3, comprovante_bytes, bucket_name=\"projeto-validacao\"):\n",
        "    \"\"\"\n",
        "    Processa o comprovante de residência usando AWS Textract\n",
        "\n",
        "    Args:\n",
        "        textract: Cliente AWS Textract\n",
        "        s3: Cliente AWS S3\n",
        "        comprovante_bytes: Bytes do arquivo PDF do comprovante\n",
        "        bucket_name: Nome do bucket S3\n",
        "\n",
        "    Returns:\n",
        "        list: Linhas de texto extraídas do comprovante\n",
        "    \"\"\"\n",
        "    # Código para upload e processamento do PDF\n",
        "    # ...implementação similar ao app.py...\n",
        "\n",
        "    # Versão simplificada para demonstração\n",
        "    file_key = f'temp/{uuid.uuid4()}.pdf'\n",
        "    s3.put_object(Bucket=bucket_name, Key=file_key, Body=comprovante_bytes)\n",
        "\n",
        "    response_start = textract.start_document_text_detection(\n",
        "        DocumentLocation={'S3Object': {'Bucket': bucket_name, 'Name': file_key}}\n",
        "    )\n",
        "    job_id = response_start['JobId']\n",
        "\n",
        "    # Aguardar processamento\n",
        "    status = 'IN_PROGRESS'\n",
        "    while status == 'IN_PROGRESS':\n",
        "        response_get = textract.get_document_text_detection(JobId=job_id)\n",
        "        status = response_get['JobStatus']\n",
        "        if status == 'IN_PROGRESS':\n",
        "            time.sleep(1)\n",
        "\n",
        "    # Limpar arquivo temporário\n",
        "    s3.delete_object(Bucket=bucket_name, Key=file_key)\n",
        "\n",
        "    # Processar resultados\n",
        "    lines_comprovante = []\n",
        "    if status == 'SUCCEEDED':\n",
        "        for item in response_get['Blocks']:\n",
        "            if item['BlockType'] == 'LINE':\n",
        "                lines_comprovante.append(item['Text'])\n",
        "\n",
        "    return lines_comprovante"
      ],
      "metadata": {
        "id": "jL4UZpK71hJr"
      },
      "execution_count": null,
      "outputs": []
    }
  ]
}